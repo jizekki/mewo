{
 "cells": [
  {
   "cell_type": "markdown",
   "metadata": {
    "id": "5UECXry8TP1T"
   },
   "source": [
    "# Downloading the data"
   ]
  },
  {
   "cell_type": "code",
   "execution_count": 1,
   "metadata": {
    "id": "cBmooKhe65YL",
    "scrolled": true
   },
   "outputs": [],
   "source": [
    "if False:\n",
    "    from pydrive.auth import GoogleAuth\n",
    "    from pydrive.drive import GoogleDrive\n",
    "    from google.colab import auth\n",
    "    from oauth2client.client import GoogleCredentials"
   ]
  },
  {
   "cell_type": "code",
   "execution_count": 2,
   "metadata": {
    "colab": {
     "base_uri": "https://localhost:8080/",
     "height": 634
    },
    "id": "wmDgaktJvOeK",
    "outputId": "085587dd-81e3-448f-985a-f1580c36fe4b"
   },
   "outputs": [],
   "source": [
    "if False:\n",
    "    # 1. Authenticate and create the PyDrive client.\n",
    "    auth.authenticate_user()\n",
    "    gauth = GoogleAuth()\n",
    "    gauth.credentials = GoogleCredentials.get_application_default()\n",
    "    drive = GoogleDrive(gauth)"
   ]
  },
  {
   "cell_type": "code",
   "execution_count": 3,
   "metadata": {
    "id": "EUBuFhzDvRHb"
   },
   "outputs": [],
   "source": [
    "if False:\n",
    "    #2. Get the file\n",
    "    x_train_downloaded = drive.CreateFile({'id':\"1llrLRCwI6gvaTOgGcGl1aigk_97HFW6D\"})\n",
    "    y_train_downloaded = drive.CreateFile({'id':\"165kNBNGxqvoSbWoYVhuZNfhJ_MKUxUXB\"})\n",
    "    x_test_downloaded = drive.CreateFile({'id':\"1xXEKoy1W1MWUOURUBp_QsZvEpyzwAzIL\"})\n",
    "\n",
    "    x_train_downloaded.GetContentFile('x-train.csv')\n",
    "    y_train_downloaded.GetContentFile('y-train.csv')\n",
    "    x_test_downloaded.GetContentFile('x-test.csv')"
   ]
  },
  {
   "cell_type": "markdown",
   "metadata": {
    "id": "MMpKe4MYTWOF"
   },
   "source": [
    "# Preparing the environment"
   ]
  },
  {
   "cell_type": "code",
   "execution_count": 4,
   "metadata": {
    "colab": {
     "base_uri": "https://localhost:8080/"
    },
    "id": "7NGdI4MHTUT-",
    "outputId": "f650c664-041d-4931-9823-682b65dbc836"
   },
   "outputs": [
    {
     "name": "stdout",
     "output_type": "stream",
     "text": [
      "TensorFlow version: 2.3.0\n",
      "Keras version: 2.4.0\n"
     ]
    }
   ],
   "source": [
    "import os\n",
    "import pickle\n",
    "\n",
    "import matplotlib.pyplot as plt\n",
    "import pandas as pd\n",
    "import seaborn as sns\n",
    "import tensorflow as tf\n",
    "from sklearn.neighbors import KNeighborsClassifier\n",
    "from sklearn.metrics import ConfusionMatrixDisplay\n",
    "from sklearn.model_selection import train_test_split\n",
    "from sklearn.ensemble import RandomForestClassifier\n",
    "\n",
    "print(f\"TensorFlow version: {tf.__version__}\")\n",
    "print(f\"Keras version: {tf.keras.__version__}\")"
   ]
  },
  {
   "cell_type": "code",
   "execution_count": 5,
   "metadata": {
    "id": "zD5zxL24x4mP"
   },
   "outputs": [],
   "source": [
    "# Setup plots\n",
    "\n",
    "%matplotlib inline\n",
    "plt.rcParams[\"figure.figsize\"] = 12, 6\n",
    "%config InlineBackend.figure_format = \"retina\"\n",
    "sns.set()"
   ]
  },
  {
   "cell_type": "code",
   "execution_count": 6,
   "metadata": {
    "id": "oaTu3y7QT0zo"
   },
   "outputs": [],
   "source": [
    "#3. Read file as panda dataframe\n",
    "\n",
    "x_train = pd.read_csv('x-train.csv')\n",
    "y_train = pd.read_csv('y-train.csv')\n",
    "x_test = pd.read_csv('x-test.csv')\n"
   ]
  },
  {
   "cell_type": "code",
   "execution_count": 7,
   "metadata": {
    "id": "92lGQxeTiyDh"
   },
   "outputs": [],
   "source": [
    "\n",
    "x_train, xval, y_train, y_val = train_test_split(x_train, y_train, random_state=42, test_size=0.30, shuffle=True)"
   ]
  },
  {
   "cell_type": "code",
   "execution_count": 8,
   "metadata": {
    "colab": {
     "base_uri": "https://localhost:8080/"
    },
    "id": "0kAf3kaAyT5e",
    "outputId": "1d6c0cc2-5376-4a9c-8bce-976656bb4f87"
   },
   "outputs": [
    {
     "name": "stdout",
     "output_type": "stream",
     "text": [
      "(77597, 289)\n",
      "(77597, 248)\n"
     ]
    }
   ],
   "source": [
    "test_challengeID = x_test['ChallengeID']\n",
    "\n",
    "x_train = x_train.drop('ChallengeID', axis=1)\n",
    "y_train = y_train.drop('ChallengeID', axis=1)\n",
    "x_test = x_test.drop('ChallengeID', axis=1)\n",
    "print(x_train.shape)\n",
    "print(y_train.shape)"
   ]
  },
  {
   "cell_type": "markdown",
   "metadata": {
    "id": "IUymxDvKx-NV"
   },
   "source": [
    "# Building the model"
   ]
  },
  {
   "cell_type": "code",
   "execution_count": 9,
   "metadata": {
    "colab": {
     "base_uri": "https://localhost:8080/"
    },
    "id": "iaKR12KEw2b4",
    "outputId": "6582f36b-ab8a-4478-a080-c4300a8dcafc"
   },
   "outputs": [],
   "source": [
    "filename = 'model.sav'\n",
    "file_exist = os.path.isfile(filename)\n",
    "odel = None\n",
    "\n",
    "if not file_exist:\n",
    "    model = KNeighborsClassifier(n_neighbors=5)\n",
    "    model.fit(x_train, y_train)\n",
    "    pickle.dump(model, open(filename, 'wb'))\n",
    "else:\n",
    "    model = pickle.load(open(filename, 'rb'))"
   ]
  },
  {
   "cell_type": "code",
   "execution_count": null,
   "metadata": {
    "id": "kG6BBAXtVZU-"
   },
   "outputs": [],
   "source": [
    "train_acc = model.predict(x_test)"
   ]
  },
  {
   "cell_type": "code",
   "execution_count": null,
   "metadata": {},
   "outputs": [],
   "source": [
    "trained_dataframe = pd.DataFrame(train_acc, columns=y_train.columns.values)\n",
    "trained_dataframe.insert(0, 'ChallengeID', test_challengeID)\n",
    "trained_dataframe.to_csv(\"result.csv\", index=False)\n",
    "trained_dataframe"
   ]
  },
  {
   "cell_type": "code",
   "execution_count": null,
   "metadata": {},
   "outputs": [],
   "source": []
  }
 ],
 "metadata": {
  "accelerator": "GPU",
  "colab": {
   "collapsed_sections": [],
   "name": "mewo.ipynb",
   "provenance": []
  },
  "kernelspec": {
   "display_name": "Python 3",
   "language": "python",
   "name": "python3"
  },
  "language_info": {
   "codemirror_mode": {
    "name": "ipython",
    "version": 3
   },
   "file_extension": ".py",
   "mimetype": "text/x-python",
   "name": "python",
   "nbconvert_exporter": "python",
   "pygments_lexer": "ipython3",
   "version": "3.8.8"
  }
 },
 "nbformat": 4,
 "nbformat_minor": 1
}
